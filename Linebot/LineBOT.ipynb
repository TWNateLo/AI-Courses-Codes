{
 "cells": [
  {
   "cell_type": "code",
   "execution_count": 28,
   "metadata": {},
   "outputs": [
    {
     "name": "stdout",
     "output_type": "stream",
     "text": [
      " * Serving Flask app '__main__'\n",
      " * Debug mode: off\n"
     ]
    },
    {
     "name": "stderr",
     "output_type": "stream",
     "text": [
      "WARNING: This is a development server. Do not use it in a production deployment. Use a production WSGI server instead.\n",
      " * Running on http://127.0.0.1:5000\n",
      "Press CTRL+C to quit\n"
     ]
    },
    {
     "name": "stdout",
     "output_type": "stream",
     "text": [
      "{'destination': 'Ua1e16d970f66b27686e9ac9526bf99ee', 'events': [{'type': 'message', 'message': {'type': 'text', 'id': '521979229609918945', 'quoteToken': 'N6xF_-a_EW1t71aj5A0jO7VBYZ-2Buf3X8chv6BT-wZHLIOZ7lYREdQlqNbrQOmoV8X_Eb-PzU5qR01M21G-PxiMP_8HCa6Zh9Bg0a6vyGj4iKyGhzWomyxeUN-PYQiHIwEtF8IqC-TK1svcgEdGGA', 'text': 'Hi AI: who are you'}, 'webhookEventId': '01J5HVRJP5EY1ZH8J2ZNWEG0R0', 'deliveryContext': {'isRedelivery': False}, 'timestamp': 1723955169623, 'source': {'type': 'user', 'userId': 'U575cecd6989db493aec43ceb0596e0b1'}, 'replyToken': 'd4922b6ba70a48e1ac5d6246e3a851f8', 'mode': 'active'}]}\n",
      "Hi AI: who are you\n",
      "query detected\n"
     ]
    },
    {
     "name": "stderr",
     "output_type": "stream",
     "text": [
      "C:\\Users\\User\\AppData\\Local\\Temp\\ipykernel_13052\\3009582748.py:20: LineBotSdkDeprecatedIn30: Call to deprecated class LineBotApi. (Use v3 class; linebot.v3.<feature>. See https://github.com/line/line-bot-sdk-python/blob/master/README.rst for more details.) -- Deprecated since version 3.0.0.\n",
      "  line_bot_api = LineBotApi('dJELS6J5XD5FiI8+edCm6EoVh6hUYHZX4KFke+O6N6P4W5s9Emnbt0TeUJkjxci0Yxk/zTqGZGRKVZcRYxNC+bQA6hjyctRJdAUICS6HW6N0SgKJCoMGRtK2iYZUsPz4FapeUqIUqycrqAQmHO6QWQdB04t89/1O/w1cDnyilFU=')\n",
      "C:\\Users\\User\\AppData\\Local\\Temp\\ipykernel_13052\\3009582748.py:21: LineBotSdkDeprecatedIn30: Call to deprecated class WebhookHandler. (Use 'from linebot.v3.webhook import WebhookHandler' instead. See https://github.com/line/line-bot-sdk-python/blob/master/README.rst for more details.) -- Deprecated since version 3.0.0.\n",
      "  handler = WebhookHandler('44472f53d0de702751c54bae23143f40')\n",
      "C:\\Users\\User\\AppData\\Local\\Temp\\ipykernel_13052\\3009582748.py:42: LineBotSdkDeprecatedIn30: Call to deprecated method reply_message. (Use 'from linebot.v3.messaging import MessagingApi' and 'MessagingApi(...).reply_message(...)' instead. See https://github.com/line/line-bot-sdk-python/blob/master/README.rst for more details.) -- Deprecated since version 3.0.0.\n",
      "  line_bot_api.reply_message(tk,text_message)\n",
      "[2024-08-18 12:26:01,728] ERROR in app: Exception on / [POST]\n",
      "Traceback (most recent call last):\n",
      "  File \"c:\\Users\\User\\anaconda3\\envs\\conda_env_langchain\\Lib\\site-packages\\flask\\app.py\", line 1473, in wsgi_app\n",
      "    response = self.full_dispatch_request()\n",
      "               ^^^^^^^^^^^^^^^^^^^^^^^^^^^^\n",
      "  File \"c:\\Users\\User\\anaconda3\\envs\\conda_env_langchain\\Lib\\site-packages\\flask\\app.py\", line 883, in full_dispatch_request\n",
      "    return self.finalize_request(rv)\n",
      "           ^^^^^^^^^^^^^^^^^^^^^^^^^\n",
      "  File \"c:\\Users\\User\\anaconda3\\envs\\conda_env_langchain\\Lib\\site-packages\\flask\\app.py\", line 902, in finalize_request\n",
      "    response = self.make_response(rv)\n",
      "               ^^^^^^^^^^^^^^^^^^^^^^\n",
      "  File \"c:\\Users\\User\\anaconda3\\envs\\conda_env_langchain\\Lib\\site-packages\\flask\\app.py\", line 1174, in make_response\n",
      "    raise TypeError(\n",
      "TypeError: The view function for 'linebot' did not return a valid response. The function either returned None or ended without a return statement.\n",
      "127.0.0.1 - - [18/Aug/2024 12:26:01] \"POST / HTTP/1.1\" 500 -\n"
     ]
    },
    {
     "name": "stdout",
     "output_type": "stream",
     "text": [
      "{'destination': 'Ua1e16d970f66b27686e9ac9526bf99ee', 'events': [{'type': 'message', 'message': {'type': 'text', 'id': '521979303932723234', 'quoteToken': 'TvVEeuBVlzrWcH2lTvFb2QqnaboUQrliBlb4X7Agmu3L4uN6fD_FxD7oofDSrSNvrLKK6j_MesurniR7-b_BmmuqVUP88dDAQiGIHJ_lICW0-X8jxh4UhAPHA3AGEB1L7IdPOm_PBXmsl7nJUWsfzQ', 'text': 'Hi AI: Then can you tell me, what will happen if i poop in the public in Taiwan?'}, 'webhookEventId': '01J5HVSXXYVB3Q89RTK4E55CEX', 'deliveryContext': {'isRedelivery': False}, 'timestamp': 1723955214081, 'source': {'type': 'user', 'userId': 'U575cecd6989db493aec43ceb0596e0b1'}, 'replyToken': '330612de70744dbbab4a4f452093eca2', 'mode': 'active'}]}\n",
      "Hi AI: Then can you tell me, what will happen if i poop in the public in Taiwan?\n",
      "query detected\n"
     ]
    },
    {
     "name": "stderr",
     "output_type": "stream",
     "text": [
      "C:\\Users\\User\\AppData\\Local\\Temp\\ipykernel_13052\\3009582748.py:20: LineBotSdkDeprecatedIn30: Call to deprecated class LineBotApi. (Use v3 class; linebot.v3.<feature>. See https://github.com/line/line-bot-sdk-python/blob/master/README.rst for more details.) -- Deprecated since version 3.0.0.\n",
      "  line_bot_api = LineBotApi('dJELS6J5XD5FiI8+edCm6EoVh6hUYHZX4KFke+O6N6P4W5s9Emnbt0TeUJkjxci0Yxk/zTqGZGRKVZcRYxNC+bQA6hjyctRJdAUICS6HW6N0SgKJCoMGRtK2iYZUsPz4FapeUqIUqycrqAQmHO6QWQdB04t89/1O/w1cDnyilFU=')\n",
      "C:\\Users\\User\\AppData\\Local\\Temp\\ipykernel_13052\\3009582748.py:21: LineBotSdkDeprecatedIn30: Call to deprecated class WebhookHandler. (Use 'from linebot.v3.webhook import WebhookHandler' instead. See https://github.com/line/line-bot-sdk-python/blob/master/README.rst for more details.) -- Deprecated since version 3.0.0.\n",
      "  handler = WebhookHandler('44472f53d0de702751c54bae23143f40')\n",
      "C:\\Users\\User\\AppData\\Local\\Temp\\ipykernel_13052\\3009582748.py:42: LineBotSdkDeprecatedIn30: Call to deprecated method reply_message. (Use 'from linebot.v3.messaging import MessagingApi' and 'MessagingApi(...).reply_message(...)' instead. See https://github.com/line/line-bot-sdk-python/blob/master/README.rst for more details.) -- Deprecated since version 3.0.0.\n",
      "  line_bot_api.reply_message(tk,text_message)\n",
      "[2024-08-18 12:26:45,891] ERROR in app: Exception on / [POST]\n",
      "Traceback (most recent call last):\n",
      "  File \"c:\\Users\\User\\anaconda3\\envs\\conda_env_langchain\\Lib\\site-packages\\flask\\app.py\", line 1473, in wsgi_app\n",
      "    response = self.full_dispatch_request()\n",
      "               ^^^^^^^^^^^^^^^^^^^^^^^^^^^^\n",
      "  File \"c:\\Users\\User\\anaconda3\\envs\\conda_env_langchain\\Lib\\site-packages\\flask\\app.py\", line 883, in full_dispatch_request\n",
      "    return self.finalize_request(rv)\n",
      "           ^^^^^^^^^^^^^^^^^^^^^^^^^\n",
      "  File \"c:\\Users\\User\\anaconda3\\envs\\conda_env_langchain\\Lib\\site-packages\\flask\\app.py\", line 902, in finalize_request\n",
      "    response = self.make_response(rv)\n",
      "               ^^^^^^^^^^^^^^^^^^^^^^\n",
      "  File \"c:\\Users\\User\\anaconda3\\envs\\conda_env_langchain\\Lib\\site-packages\\flask\\app.py\", line 1174, in make_response\n",
      "    raise TypeError(\n",
      "TypeError: The view function for 'linebot' did not return a valid response. The function either returned None or ended without a return statement.\n",
      "127.0.0.1 - - [18/Aug/2024 12:26:45] \"POST / HTTP/1.1\" 500 -\n"
     ]
    }
   ],
   "source": [
    "import openai\n",
    "from langchain_openai import ChatOpenAI\n",
    "from langchain_core.messages import HumanMessage, SystemMessage\n",
    "\n",
    "from flask import Flask, request\n",
    "\n",
    "# 載入 LINE Message API 相關函式庫\n",
    "from linebot import LineBotApi, WebhookHandler\n",
    "from linebot.models import TextSendMessage   # 載入 TextSendMessage 模組\n",
    "import json\n",
    "\n",
    "app = Flask(__name__)\n",
    "\n",
    "@app.route(\"/\", methods=['POST'])\n",
    "def linebot():\n",
    "    body = request.get_data(as_text=True)\n",
    "    json_data = json.loads(body)\n",
    "    print(json_data)\n",
    "    #try:\n",
    "    line_bot_api = LineBotApi('channel access token')\n",
    "    handler = WebhookHandler('channel secret')\n",
    "    signature = request.headers['X-Line-Signature']\n",
    "    handler.handle(body, signature)\n",
    "    tk = json_data['events'][0]['replyToken']\n",
    "    msg = json_data['events'][0]['message']['text']\n",
    "    print(msg)\n",
    "    # 取出文字的前五個字元，轉換成小寫\n",
    "    ai_msg = msg[:6].lower()\n",
    "    reply_msg = ''\n",
    "    # 取出文字的前五個字元是 hi ai:\n",
    "    if ai_msg == 'hi ai:':\n",
    "        print('query detected')\n",
    "        chat = ChatOpenAI(model=\"gpt-3.5-turbo\", api_key=\"openaiapikey\")\n",
    "        messages = [\n",
    "            SystemMessage(content=\"You're a helpful AI assistant connected to LineBOT called 'Law Genius'\"),\n",
    "            HumanMessage(content= str(msg[6:])),\n",
    "        ]\n",
    "        reply_msg = chat.invoke(messages).content\n",
    "    else:\n",
    "        reply_msg = msg\n",
    "    text_message = TextSendMessage(text=reply_msg)\n",
    "    line_bot_api.reply_message(tk,text_message)\n",
    "    #except:\n",
    "        #print('error')\n",
    "    #return 'OK'\n",
    "\n",
    "if __name__ == \"__main__\":\n",
    "    app.run()"
   ]
  }
 ],
 "metadata": {
  "kernelspec": {
   "display_name": "conda_env_langchain",
   "language": "python",
   "name": "python3"
  },
  "language_info": {
   "codemirror_mode": {
    "name": "ipython",
    "version": 3
   },
   "file_extension": ".py",
   "mimetype": "text/x-python",
   "name": "python",
   "nbconvert_exporter": "python",
   "pygments_lexer": "ipython3",
   "version": "3.11.9"
  }
 },
 "nbformat": 4,
 "nbformat_minor": 2
}
