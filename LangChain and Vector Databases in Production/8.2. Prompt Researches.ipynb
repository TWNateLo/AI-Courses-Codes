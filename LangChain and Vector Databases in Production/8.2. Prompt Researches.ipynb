{
 "cells": [
  {
   "cell_type": "markdown",
   "metadata": {},
   "source": [
    "## LangChain prompt quick start\n",
    "https://python.langchain.com/v0.1/docs/modules/model_io/prompts/quick_start/"
   ]
  },
  {
   "cell_type": "markdown",
   "metadata": {},
   "source": [
    "A very good guide: https://medium.com/@larry_nguyen/langchain-101-lesson-1-prompts-754abb9a61a8"
   ]
  },
  {
   "cell_type": "markdown",
   "metadata": {},
   "source": [
    "Prompts:\n",
    "https://python.langchain.com/v0.1/docs/modules/model_io/prompts/"
   ]
  }
 ],
 "metadata": {
  "language_info": {
   "name": "python"
  }
 },
 "nbformat": 4,
 "nbformat_minor": 2
}
