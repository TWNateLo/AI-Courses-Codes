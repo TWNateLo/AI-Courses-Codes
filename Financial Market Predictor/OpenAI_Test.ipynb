{
 "cells": [
  {
   "cell_type": "markdown",
   "metadata": {},
   "source": [
    "## Requirements\n",
    "OpenAI API key\n",
    "Libraries: openai, pandas, numpy, yfinance\n",
    "\n",
    "## Setup\n",
    "### First, install the necessary libraries:"
   ]
  },
  {
   "cell_type": "markdown",
   "metadata": {},
   "source": [
    "pip install openai pandas numpy yfinance"
   ]
  },
  {
   "cell_type": "markdown",
   "metadata": {},
   "source": [
    "### Step-by-Step Code\n",
    "1. Import Necessary Libraries\n",
    "2. Fetch Data\n",
    "3. Preprocess Data\n",
    "4. Generate Predictions using OpenAI API"
   ]
  },
  {
   "cell_type": "markdown",
   "metadata": {},
   "source": [
    "### 1. Import Necessary Libraries"
   ]
  },
  {
   "cell_type": "code",
   "execution_count": 18,
   "metadata": {},
   "outputs": [],
   "source": [
    "import openai\n",
    "import pandas as pd\n",
    "import numpy as np\n",
    "import yfinance as yf\n",
    "import datetime"
   ]
  },
  {
   "cell_type": "markdown",
   "metadata": {},
   "source": [
    "### 2. Fetch Data\n",
    "We will use yfinance to fetch historical market data."
   ]
  },
  {
   "cell_type": "code",
   "execution_count": 50,
   "metadata": {},
   "outputs": [
    {
     "name": "stderr",
     "output_type": "stream",
     "text": [
      "[*********************100%%**********************]  1 of 1 completed"
     ]
    },
    {
     "name": "stdout",
     "output_type": "stream",
     "text": [
      "                  Open        High         Low       Close   Adj Close  \\\n",
      "Date                                                                     \n",
      "2023-06-01  177.699997  180.119995  176.929993  180.089996  179.138626   \n",
      "2023-06-02  181.029999  181.779999  179.259995  180.949997  179.994095   \n",
      "2023-06-05  182.630005  184.949997  178.039993  179.580002  178.631332   \n",
      "2023-06-06  179.970001  180.119995  177.429993  179.210007  178.263306   \n",
      "2023-06-07  178.440002  181.210007  177.320007  177.820007  176.880630   \n",
      "\n",
      "               Volume  \n",
      "Date                   \n",
      "2023-06-01   68901800  \n",
      "2023-06-02   61945900  \n",
      "2023-06-05  121946500  \n",
      "2023-06-06   64848400  \n",
      "2023-06-07   61944600  \n",
      "                  Open        High         Low       Close   Adj Close  \\\n",
      "Date                                                                     \n",
      "2024-07-02  216.149994  220.380005  215.100006  220.270004  220.270004   \n",
      "2024-07-03  220.000000  221.550003  219.029999  221.550003  221.550003   \n",
      "2024-07-05  221.649994  226.449997  221.649994  226.339996  226.339996   \n",
      "2024-07-08  227.089996  227.850006  223.250000  227.820007  227.820007   \n",
      "2024-07-09  227.929993  229.399994  226.369995  228.679993  228.679993   \n",
      "\n",
      "              Volume  \n",
      "Date                  \n",
      "2024-07-02  58046200  \n",
      "2024-07-03  37369800  \n",
      "2024-07-05  60412400  \n",
      "2024-07-08  59085900  \n",
      "2024-07-09  48076100  \n"
     ]
    },
    {
     "name": "stderr",
     "output_type": "stream",
     "text": [
      "\n"
     ]
    }
   ],
   "source": [
    "def fetch_data(ticker, start_date, end_date):\n",
    "    data = yf.download(ticker, start=start_date, end=end_date)\n",
    "    return data\n",
    "\n",
    "# Example usage\n",
    "ticker = 'AAPL'\n",
    "start_date = '2023-06-01'\n",
    "end_date = '2024-07-10'\n",
    "data = fetch_data(ticker, start_date, end_date)\n",
    "print(data.head())\n",
    "print(data.tail())"
   ]
  },
  {
   "cell_type": "markdown",
   "metadata": {},
   "source": [
    "### 3. Preprocess Data\n",
    "Calculate the indicators like moving average, RSI, etc."
   ]
  },
  {
   "cell_type": "code",
   "execution_count": 51,
   "metadata": {},
   "outputs": [
    {
     "name": "stdout",
     "output_type": "stream",
     "text": [
      "                  Open        High         Low       Close   Adj Close  \\\n",
      "Date                                                                     \n",
      "2024-07-02  216.149994  220.380005  215.100006  220.270004  220.270004   \n",
      "2024-07-03  220.000000  221.550003  219.029999  221.550003  221.550003   \n",
      "2024-07-05  221.649994  226.449997  221.649994  226.339996  226.339996   \n",
      "2024-07-08  227.089996  227.850006  223.250000  227.820007  227.820007   \n",
      "2024-07-09  227.929993  229.399994  226.369995  228.679993  228.679993   \n",
      "\n",
      "              Volume      MA50      MA200        RSI  \n",
      "Date                                                  \n",
      "2024-07-02  58046200  192.7818  184.13120  65.641398  \n",
      "2024-07-03  37369800  193.8960  184.36390  61.367286  \n",
      "2024-07-05  60412400  195.0848  184.60575  64.784936  \n",
      "2024-07-08  59085900  196.2608  184.84950  68.856087  \n",
      "2024-07-09  48076100  197.4366  185.11545  66.086250  \n"
     ]
    }
   ],
   "source": [
    "def calculate_indicators(data):\n",
    "    # Calculate Moving Averages\n",
    "    data['MA50'] = data['Close'].rolling(window=50).mean()\n",
    "    data['MA200'] = data['Close'].rolling(window=200).mean()\n",
    "\n",
    "    # Calculate RSI\n",
    "    delta = data['Close'].diff()\n",
    "    gain = (delta.where(delta > 0, 0)).rolling(window=14).mean()\n",
    "    loss = (-delta.where(delta < 0, 0)).rolling(window=14).mean()\n",
    "    RS = gain / loss\n",
    "    data['RSI'] = 100 - (100 / (1 + RS))\n",
    "\n",
    "    # Drop NaN values\n",
    "    data = data.dropna()\n",
    "    \n",
    "    return data\n",
    "\n",
    "data = calculate_indicators(data)\n",
    "print(data.tail())"
   ]
  },
  {
   "cell_type": "markdown",
   "metadata": {},
   "source": [
    "### 4. Generate Predictions using OpenAI API\n",
    "Use the OpenAI API to generate predictions based on the indicators."
   ]
  },
  {
   "cell_type": "code",
   "execution_count": 11,
   "metadata": {},
   "outputs": [
    {
     "name": "stdout",
     "output_type": "stream",
     "text": [
      "                  Open        High         Low       Close   Adj Close  \\\n",
      "Date                                                                     \n",
      "2024-07-02  216.149994  220.380005  215.100006  220.270004  220.270004   \n",
      "2024-07-03  220.000000  221.550003  219.029999  221.550003  221.550003   \n",
      "2024-07-05  221.649994  226.449997  221.649994  226.339996  226.339996   \n",
      "2024-07-08  227.089996  227.850006  223.250000  227.820007  227.820007   \n",
      "2024-07-09  227.929993  229.399994  226.369995  228.679993  228.679993   \n",
      "\n",
      "              Volume      MA50      MA200        RSI  \\\n",
      "Date                                                   \n",
      "2024-07-02  58046200  192.7818  184.13120  65.641398   \n",
      "2024-07-03  37369800  193.8960  184.36390  61.367286   \n",
      "2024-07-05  60412400  195.0848  184.60575  64.784936   \n",
      "2024-07-08  59085900  196.2608  184.84950  68.856087   \n",
      "2024-07-09  48076100  197.4366  185.11545  66.086250   \n",
      "\n",
      "                                                   Prediction  \n",
      "Date                                                           \n",
      "2024-07-02  Based on the information provided, the stock a...  \n",
      "2024-07-03  Based on the information provided, the market ...  \n",
      "2024-07-05  Based on the information provided, the stock's...  \n",
      "2024-07-08  Based on the data provided, the market seems t...  \n",
      "2024-07-09  Based on the information provided, the market ...  \n"
     ]
    },
    {
     "name": "stderr",
     "output_type": "stream",
     "text": [
      "C:\\Users\\nate.lo\\AppData\\Local\\Temp\\ipykernel_17080\\4220305234.py:27: SettingWithCopyWarning: \n",
      "A value is trying to be set on a copy of a slice from a DataFrame.\n",
      "Try using .loc[row_indexer,col_indexer] = value instead\n",
      "\n",
      "See the caveats in the documentation: https://pandas.pydata.org/pandas-docs/stable/user_guide/indexing.html#returning-a-view-versus-a-copy\n",
      "  data['Prediction'] = responses\n"
     ]
    }
   ],
   "source": [
    "#openai.api_key = 'YOUR_OPENAI_API_KEY'\n",
    "\n",
    "def predict_market(data):\n",
    "    responses = []\n",
    "    for index, row in data.iterrows():\n",
    "        prompt = f\"Date: {index.date()}\\n\"\n",
    "        prompt += f\"Close: {row['Close']}\\n\"\n",
    "        prompt += f\"MA50: {row['MA50']}\\n\"\n",
    "        prompt += f\"MA200: {row['MA200']}\\n\"\n",
    "        prompt += f\"RSI: {row['RSI']}\\n\"\n",
    "        prompt += \"Will the market go up or down tomorrow?\\n\"\n",
    "\n",
    "        response = openai.chat.completions.create(\n",
    "            model=\"gpt-3.5-turbo\",\n",
    "            messages=[\n",
    "                {\"role\": \"system\", \"content\": \"You are a financial analyst.\"},\n",
    "                {\"role\": \"user\", \"content\": prompt}\n",
    "            ],\n",
    "            max_tokens=50,\n",
    "            n=1,\n",
    "            stop=None,\n",
    "            temperature=0.7\n",
    "        )\n",
    "        prediction = response.choices[0].message.content.strip()\n",
    "        responses.append(prediction)\n",
    "\n",
    "    data['Prediction'] = responses\n",
    "    return data\n",
    "\n",
    "predictions = predict_market(data)\n",
    "print(predictions.tail())"
   ]
  },
  {
   "cell_type": "code",
   "execution_count": 55,
   "metadata": {},
   "outputs": [
    {
     "name": "stdout",
     "output_type": "stream",
     "text": [
      "Based on the historical market data provided, along with the moving averages and relative strength index (RSI) values, I can provide a prediction for the market price for the next 7 trading days starting from tomorrow.\n",
      "\n",
      "Here is the prediction for the next 7 trading days:\n",
      "\n",
      "Date: 2024-07-10, Close: 230.00, MA50: 198.6233999633789, MA200: 185.3746000289917, RSI: 68.20087132915326\n",
      "Date: 2024-07-11, Close: 232.50, MA50: 199.8699996948242, MA200: 185.65530002593995, RSI: 70.59468642643812\n",
      "Date: 2024-07-12, Close: 235.00, MA50: 201.19459976196288, MA200: 185.9567000389099, RSI: 72.88960045921137\n",
      "Date: 2024-07-15, Close: 238.00, MA50: 202.59019973754883, MA200: 186.27965000152588, RSI: 75.08443208594729\n",
      "Date: 2024-07-16, Close: 240.00, MA50: 204.05219970703126, MA200: 186.6242500305176, RSI: 77.1791687976658\n",
      "Date: 2024-07-17, Close: 242.50, MA50: 205.5741996765137, MA200: 186.9907000732422, RSI: 79.17381557611653\n",
      "Date: 2024-07-18, Close: 245.00, MA50: 207.1493997192383, MA200: 187.3785000610351, RSI: 80.96703678715352\n",
      "\n",
      "Please note that these predictions are based on historical data and are subject to market volatility and other external factors. It's always important to conduct further analysis and consider current market conditions before making any investment decisions.\n"
     ]
    }
   ],
   "source": [
    "#openai.api_key = 'YOUR_OPENAI_API_KEY'\n",
    "\n",
    "def predict_market(data):\n",
    "    historical_data = \"\"\n",
    "    for index, row in data.tail(30).iterrows():  # Use the last 30 days of data for context\n",
    "        historical_data += f\"Date: {index.date()}, Close: {row['Close']}, MA50: {row['MA50']}, MA200: {row['MA200']}, RSI: {row['RSI']}\\n\"\n",
    "    \n",
    "    prompt = (\n",
    "        \"Below is the historical market data for the past 30 days:\\n\"\n",
    "        f\"{historical_data}\\n\"\n",
    "        \"Based on this data, please predict the market price for the next 7 trading days starting from tomorrow. Please list out the prediction in the format of the provided data above, include columns high low and close.\\n\"\n",
    "    )\n",
    "\n",
    "    response = openai.chat.completions.create(\n",
    "        model=\"gpt-3.5-turbo\",\n",
    "        messages=[\n",
    "            {\"role\": \"system\", \"content\": \"You are a financial analyst.\"},\n",
    "            {\"role\": \"user\", \"content\": prompt}\n",
    "        ],\n",
    "        max_tokens=500,  # Increase token limit to allow for longer responses\n",
    "        n=1,\n",
    "        stop=None,\n",
    "        temperature=0.7\n",
    "    )\n",
    "\n",
    "    prediction = response.choices[0].message.content.strip()\n",
    "    return prediction\n",
    "\n",
    "predictions = predict_market(data)\n",
    "print(predictions)  # Print the predictions"
   ]
  },
  {
   "cell_type": "markdown",
   "metadata": {},
   "source": [
    "### Explanation:\n",
    "- Data Fetching: Uses yfinance to download historical market data for a specified ticker.\n",
    "- Indicator Calculation: Computes technical indicators like Moving Averages and RSI.\n",
    "- Prediction Generation: Sends prompts to the OpenAI API, requesting predictions for market movements.\n",
    "\n",
    "### Note\n",
    "- The example uses davinci as the model. Adjust it to gpt-4 or other models if available and suitable.\n",
    "- Ensure your API key is securely managed.\n",
    "- The model's responses should be evaluated carefully; this is a simplified approach and might require fine-tuning and validation.\n",
    "\n",
    "This script provides a basic framework. For a production-level application, consider more advanced data preprocessing, additional indicators, and model validation techniques."
   ]
  }
 ],
 "metadata": {
  "kernelspec": {
   "display_name": "Python39",
   "language": "python",
   "name": "python3"
  },
  "language_info": {
   "codemirror_mode": {
    "name": "ipython",
    "version": 3
   },
   "file_extension": ".py",
   "mimetype": "text/x-python",
   "name": "python",
   "nbconvert_exporter": "python",
   "pygments_lexer": "ipython3",
   "version": "3.9.19"
  }
 },
 "nbformat": 4,
 "nbformat_minor": 2
}
